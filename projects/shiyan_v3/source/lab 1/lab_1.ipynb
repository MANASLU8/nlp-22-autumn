{
 "cells": [
  {
   "cell_type": "markdown",
   "metadata": {},
   "source": [
    "Создание структуры каталогов"
   ]
  },
  {
   "cell_type": "code",
   "execution_count": null,
   "metadata": {},
   "outputs": [],
   "source": [
    "import re \n",
    "import os\n",
    "\n",
    "def AddDir(rootDir):\n",
    "        for lists in os.listdir(rootDir):\n",
    "                path = os.path.join(rootDir, lists)\n",
    "                new_dir = re.sub(\"date\",\"annotated-corpus\",path)\n",
    "                os.mkdir(new_dir)\n",
    "                print(new_dir)\n",
    "AddDir('D:\\\\S\\\\NLP\\\\nlp-22-autumn\\\\projects\\\\shiyan_v3\\\\assets\\\\date\\\\train\\\\')\n",
    "AddDir('D:\\\\S\\\\NLP\\\\nlp-22-autumn\\\\projects\\\\shiyan_v3\\\\assets\\\\date\\\\test\\\\')"
   ]
  },
  {
   "cell_type": "code",
   "execution_count": null,
   "metadata": {},
   "outputs": [],
   "source": [
    "from tokenize import Token\n",
    "from nltk.stem import PorterStemmer\n",
    "import nltk\n",
    "from nltk.stem import WordNetLemmatizer\n",
    "import re \n",
    "import os\n",
    "import glob\n",
    "\n",
    "email = '[a-zA-Z0-9]+@\\w+[\\.\\w+]+'\n",
    "money='\\$[0-9]+[\\.[0-9]+]?[k]?'\n",
    "date='[0-9]{1,2}\\s[a-zA-Z]+\\s[0-9]{1,4}|[0-9]{1,2}\\s[0-9]{1,2}\\s[0-9]{1,4}|[0-9]{1,2}\\S[0-9]{1,2}\\S[0-9]{1,4}|[a-zA-Z]+\\s[0-9]{1,2}\\S?\\s[0-9]{1,4}'\n",
    "phone='\\([0-9]{3}\\)\\s[0-9]{3}\\-[0-9]{4}'\n",
    "words='[a-zA-z]+[\\'[a-z]+]?|w+|\\S'\n",
    "prop_names=''\n",
    "full_exp=email+'|'+money+'|'+date+'|'+phone+'|'+words\n",
    "\n",
    "path_change='D:\\\\S\\\\NLP\\\\nlp-22-autumn\\\\projects\\\\shiyan_v3\\\\assets\\\\annotated-corpus\\\\'\n",
    "\n",
    "ps =PorterStemmer()\n",
    "lemmatizer = WordNetLemmatizer()\n",
    "def DataProcess(rootDir):\n",
    "    for lists in os.listdir(rootDir):\n",
    "                    path = os.path.join(rootDir, lists)\n",
    "                    for filename in glob.glob(path+'\\\\*'):\n",
    "                        with open(os.path.join(os.getcwd(), filename), 'r') as file:\n",
    "                            \n",
    "                            txt = file.read().rstrip()\n",
    "\n",
    "                            dtxt=re.sub(r\"\\.\\s|\\.\\n\",\".天官赐福,百无禁忌%@!^&ЁЪЫї\",txt)\n",
    "                            etxt=re.sub(r\"\\!\\s|\\!\\n\",\"!天官赐福,百无禁忌%@!^&ЁЪЫї\",dtxt)\n",
    "                            qtxt=re.sub(r\"\\?\\s|\\?\\n\",\"?天官赐福,百无禁忌%@!^&ЁЪЫї\",etxt)\n",
    "                            sentences= re.split(r'\\天\\官\\赐\\福\\,\\百\\无\\禁\\忌\\%\\@\\!\\^\\&\\Ё\\Ъ\\Ы\\ї', qtxt)\n",
    "\n",
    "                            tokenize_regex = re.compile(full_exp, re.I)\n",
    "                            new_path = re.sub(\"date\",\"annotated-corpus\",file.name)\n",
    "\n",
    "                            with open(new_path+\".tsv\", \"w\") as f:\n",
    "                                for s in sentences:\n",
    "                                    tokens =tokenize_regex.findall(s)\n",
    "                                    for t in tokens:\n",
    "                                        f.write(t)\n",
    "                                        f.write('\\t')\n",
    "                                        f.write(ps.stem(t))\n",
    "                                        f.write('\\t')\n",
    "                                        f.write(lemmatizer.lemmatize(t))\n",
    "                                        f.write('\\n')\n",
    "                                    f.write(\"\\n\")"
   ]
  },
  {
   "cell_type": "code",
   "execution_count": null,
   "metadata": {},
   "outputs": [],
   "source": [
    "DataProcess('D:\\\\S\\\\NLP\\\\nlp-22-autumn\\\\projects\\\\shiyan_v3\\\\assets\\\\date\\\\train\\\\')"
   ]
  },
  {
   "cell_type": "code",
   "execution_count": null,
   "metadata": {},
   "outputs": [],
   "source": [
    "DataProcess('D:\\\\S\\\\NLP\\\\nlp-22-autumn\\\\projects\\\\shiyan_v3\\\\assets\\\\date\\\\test\\\\')"
   ]
  }
 ],
 "metadata": {
  "kernelspec": {
   "display_name": "Python 3.10.6 64-bit",
   "language": "python",
   "name": "python3"
  },
  "language_info": {
   "codemirror_mode": {
    "name": "ipython",
    "version": 3
   },
   "file_extension": ".py",
   "mimetype": "text/x-python",
   "name": "python",
   "nbconvert_exporter": "python",
   "pygments_lexer": "ipython3",
   "version": "3.10.6"
  },
  "orig_nbformat": 4,
  "vscode": {
   "interpreter": {
    "hash": "07bf0638b6f9a97e679c0f68f4d26207adc48a6db7abe23794ff5c2169363bfe"
   }
  }
 },
 "nbformat": 4,
 "nbformat_minor": 2
}
