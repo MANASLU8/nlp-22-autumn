{
 "cells": [
  {
   "cell_type": "code",
   "execution_count": null,
   "metadata": {},
   "outputs": [],
   "source": [
    "import regex as re\n",
    "import nltk\n",
    "from nltk.corpus import stopwords\n",
    "\n",
    "nltk.download('stopwords')\n",
    "\n",
    "tsv = open(f\"alt.atheism.tsv\").readlines()\n",
    "\n",
    "items = [row.replace(\"\\n\", '').split('\\t')[0].lower() for row in tsv]\n",
    "\n",
    "print('total:', len(items))\n",
    "print(items[:5])\n",
    "\n",
    "\n",
    "\n",
    "items = [x for x in items if not re.match('[^\\P{P}-]+', x)]\n",
    "print('\\nafter regex:', len(items))\n",
    "print(items[:5])\n",
    "\n",
    "\n",
    "stop_words = set(stopwords.words('english'))\n",
    "items = [w for w in items if not w.lower() in stop_words]\n",
    "print('\\nafter removing stop words:', len(items))\n",
    "print(items[:5])"
   ]
  },
  {
   "cell_type": "code",
   "execution_count": null,
   "metadata": {},
   "outputs": [],
   "source": [
    "def make_3_gram(items):\n",
    "    _3_grams = []\n",
    "\n",
    "    for _1, _2, _3 in zip(*[iter(items)]*3):\n",
    "        _3_grams.append((_1, _2, _3))\n",
    "\n",
    "    return _3_grams\n",
    "\n",
    "_3_grams = make_3_gram(items[0:6]) + make_3_gram(items[1:6]) + make_3_gram(items[2:6])\n",
    "_3_grams\n",
    "\n",
    "\n"
   ]
  },
  {
   "cell_type": "code",
   "execution_count": null,
   "metadata": {},
   "outputs": [],
   "source": [
    "from operator import itemgetter\n",
    "\n",
    "frequency_cache = {}\n",
    "frequency_cache_n_grams = {}\n",
    "\n",
    "def get_frequency(frequency_cache, item, items):\n",
    "    if item not in frequency_cache:\n",
    "        frequency_cache[item] = items.count(item)\n",
    "        \n",
    "    return frequency_cache[item]\n",
    "\n",
    "def t_score(items):\n",
    "    _3_grams = make_3_gram(items[0:]) + make_3_gram(items[1:]) + make_3_gram(items[2:])\n",
    "    #print(len(_3_grams))\n",
    "    result = []\n",
    "\n",
    "    for _1, _2, _3 in _3_grams:\n",
    "        frequency = get_frequency(frequency_cache_n_grams, (_1,_2,_3), _3_grams) #_3_grams.count((_1, _2, _3))\n",
    "        _1_frequency = get_frequency(frequency_cache, _1, items)\n",
    "        _2_frequency = get_frequency(frequency_cache, _2, items)\n",
    "        _3_frequency = get_frequency(frequency_cache, _3, items)\n",
    "        #print(len(frequency_cache))\n",
    "        t_score = (frequency - ((_1_frequency * _2_frequency * _3_frequency) / len(items) ** 2)) / (frequency ** 0.5)\n",
    "        result.append((t_score, _1, _2, _3))\n",
    "\n",
    "    return result\n",
    "        \n",
    "t_scored = sorted(t_score(items[:]), key = itemgetter(0), reverse=True)\n",
    "t_scored = list(dict.fromkeys(t_scored))"
   ]
  },
  {
   "cell_type": "code",
   "execution_count": null,
   "metadata": {},
   "outputs": [],
   "source": [
    "t_scored[:30]"
   ]
  },
  {
   "cell_type": "code",
   "execution_count": null,
   "metadata": {},
   "outputs": [],
   "source": [
    "import math \n",
    "\n",
    "def mi_score(items):\n",
    "    _3_grams = make_3_gram(items[0:]) + make_3_gram(items[1:]) + make_3_gram(items[2:])\n",
    "    \n",
    "    result = []\n",
    "\n",
    "    for _1, _2, _3 in _3_grams:\n",
    "        frequency = get_frequency(frequency_cache_n_grams, (_1,_2,_3), _3_grams)\n",
    "        _1_frequency = get_frequency(frequency_cache, _1, items)\n",
    "        _2_frequency = get_frequency(frequency_cache, _2, items)\n",
    "        _3_frequency = get_frequency(frequency_cache, _3, items)\n",
    "        \n",
    "        mi_score = math.log2((frequency * (len(items)**2))/(_1_frequency * _2_frequency * _3_frequency))\n",
    "        result.append((mi_score, _1, _2, _3))\n",
    "\n",
    "    return result\n",
    "        \n",
    "mi_scored = sorted(mi_score(items[:]), key = itemgetter(0), reverse=True)\n",
    "mi_scored = list(dict.fromkeys(mi_scored))"
   ]
  },
  {
   "cell_type": "code",
   "execution_count": null,
   "metadata": {},
   "outputs": [],
   "source": [
    "mi_scored[:30]"
   ]
  },
  {
   "cell_type": "code",
   "execution_count": null,
   "metadata": {},
   "outputs": [],
   "source": [
    "import nltk\n",
    "from nltk.collocations import *\n",
    "from nltk.corpus import PlaintextCorpusReader\n",
    "\n",
    "trigram_measures = nltk.collocations.TrigramAssocMeasures()\n",
    "\n",
    "tokens = [row.replace(\"\\n\", '').split('\\t')[0].lower() for row in tsv]\n",
    "\n",
    "text = nltk.Text(tokens)\n",
    "\n",
    "finder_thr = TrigramCollocationFinder.from_words(text)\n",
    "\n",
    "\n",
    "finder_thr.nbest(trigram_measures.pmi, 30)"
   ]
  }
 ],
 "metadata": {
  "kernelspec": {
   "display_name": "Python 3.9.13 ('nlp')",
   "language": "python",
   "name": "python3"
  },
  "language_info": {
   "codemirror_mode": {
    "name": "ipython",
    "version": 3
   },
   "file_extension": ".py",
   "mimetype": "text/x-python",
   "name": "python",
   "nbconvert_exporter": "python",
   "pygments_lexer": "ipython3",
   "version": "3.9.13"
  },
  "orig_nbformat": 4,
  "vscode": {
   "interpreter": {
    "hash": "239a9fa0287fc0fb48e1b84671738ced5172aadbf780861bac62c840610302f8"
   }
  }
 },
 "nbformat": 4,
 "nbformat_minor": 2
}
