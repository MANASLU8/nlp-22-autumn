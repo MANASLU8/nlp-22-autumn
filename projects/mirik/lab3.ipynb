{
 "cells": [
  {
   "cell_type": "code",
   "execution_count": 50,
   "metadata": {},
   "outputs": [
    {
     "name": "stderr",
     "output_type": "stream",
     "text": [
      "[nltk_data] Downloading package stopwords to\n",
      "[nltk_data]     C:\\Users\\ander\\AppData\\Roaming\\nltk_data...\n",
      "[nltk_data]   Package stopwords is already up-to-date!\n"
     ]
    },
    {
     "name": "stdout",
     "output_type": "stream",
     "text": [
      "total: 176171\n",
      "['archive-name', ':', 'atheism', '/', 'resources']\n",
      "\n",
      "after regex: 155026\n",
      "['archive-name', 'atheism', 'resources', 'alt-atheism-archive-name', 'resources']\n",
      "\n",
      "after removing stop words: 77569\n",
      "['archive-name', 'atheism', 'resources', 'alt-atheism-archive-name', 'resources']\n"
     ]
    }
   ],
   "source": [
    "import regex as re\n",
    "import nltk\n",
    "from nltk.corpus import stopwords\n",
    "\n",
    "nltk.download('stopwords')\n",
    "\n",
    "tsv = open(f\"alt.atheism.tsv\").readlines()\n",
    "\n",
    "items = [row.replace(\"\\n\", '').split('\\t')[0].lower() for row in tsv]\n",
    "\n",
    "print('total:', len(items))\n",
    "print(items[:5])\n",
    "\n",
    "\n",
    "\n",
    "items = [x for x in items if not re.match('[^\\P{P}-]+', x)]\n",
    "print('\\nafter regex:', len(items))\n",
    "print(items[:5])\n",
    "\n",
    "\n",
    "stop_words = set(stopwords.words('english'))\n",
    "items = [w for w in items if not w.lower() in stop_words]\n",
    "print('\\nafter removing stop words:', len(items))\n",
    "print(items[:5])"
   ]
  },
  {
   "cell_type": "code",
   "execution_count": 51,
   "metadata": {},
   "outputs": [
    {
     "data": {
      "text/plain": [
       "[('archive-name', 'atheism', 'resources'),\n",
       " ('alt-atheism-archive-name', 'resources', 'last-modified'),\n",
       " ('atheism', 'resources', 'alt-atheism-archive-name'),\n",
       " ('resources', 'alt-atheism-archive-name', 'resources')]"
      ]
     },
     "execution_count": 51,
     "metadata": {},
     "output_type": "execute_result"
    }
   ],
   "source": [
    "def make_3_gram(items):\n",
    "    _3_grams = []\n",
    "\n",
    "    for _1, _2, _3 in zip(*[iter(items)]*3):\n",
    "        _3_grams.append((_1, _2, _3))\n",
    "\n",
    "    return _3_grams\n",
    "\n",
    "_3_grams = make_3_gram(items[0:6]) + make_3_gram(items[1:6]) + make_3_gram(items[2:6])\n",
    "_3_grams\n",
    "\n",
    "\n"
   ]
  },
  {
   "cell_type": "code",
   "execution_count": 82,
   "metadata": {},
   "outputs": [],
   "source": [
    "from operator import itemgetter\n",
    "\n",
    "frequency_cache = {}\n",
    "frequency_cache_n_grams = {}\n",
    "\n",
    "def get_frequency(frequency_cache, item, items):\n",
    "    if item not in frequency_cache:\n",
    "        frequency_cache[item] = items.count(item)\n",
    "        \n",
    "    return frequency_cache[item]\n",
    "\n",
    "def t_score(items):\n",
    "    _3_grams = make_3_gram(items[0:]) + make_3_gram(items[1:]) + make_3_gram(items[2:])\n",
    "    #print(len(_3_grams))\n",
    "    result = []\n",
    "\n",
    "    for _1, _2, _3 in _3_grams:\n",
    "        frequency = get_frequency(frequency_cache_n_grams, (_1,_2,_3), _3_grams) #_3_grams.count((_1, _2, _3))\n",
    "        _1_frequency = get_frequency(frequency_cache, _1, items)\n",
    "        _2_frequency = get_frequency(frequency_cache, _2, items)\n",
    "        _3_frequency = get_frequency(frequency_cache, _3, items)\n",
    "        #print(len(frequency_cache))\n",
    "        t_score = (frequency - ((_1_frequency * _2_frequency * _3_frequency) / len(items) ** 2)) / (frequency ** 0.5)\n",
    "        result.append((t_score, _1, _2, _3))\n",
    "\n",
    "    return result\n",
    "        \n",
    "t_scored = sorted(t_score(items[:]), key = itemgetter(0), reverse=True)\n",
    "t_scored = list(dict.fromkeys(t_scored))"
   ]
  },
  {
   "cell_type": "code",
   "execution_count": 81,
   "metadata": {},
   "outputs": [
    {
     "data": {
      "text/plain": [
       "[(7.141360941903107, 'jon', 'livesey', 'writes'),\n",
       " (6.999981874537044, 'livesey@solntze.wpd.sgi', 'com', 'jon'),\n",
       " (6.999979655092601, 'com', 'jon', 'livesey'),\n",
       " (5.916076147094015, 'keith', 'allan', 'schneider'),\n",
       " (5.830948806305854, 'keith@cco.caltech.edu', 'keith', 'allan'),\n",
       " (5.656829709291775, 'allan', 'schneider', 'writes'),\n",
       " (5.376675682356701, 'writes', '|>', '|>'),\n",
       " (5.291501001083373, 'jaeger@buphy.bu.edu', 'gregg', 'jaeger'),\n",
       " (4.999971147507143, 'gregg', 'jaeger', 'writes'),\n",
       " (4.898970085158797, 'darice@yoyo.cc.monash', 'edu', 'au'),\n",
       " (4.898969504331362, 'bobbe@vice.ico.tek', 'com', 'robert'),\n",
       " (4.898969504331362, 'com', 'robert', 'beauchaine'),\n",
       " (4.690413735444997, 'bob', 'beauchaine', 'bobbe@vice.ico.tek'),\n",
       " (4.6904130899910035, 'au', 'fred', 'rice'),\n",
       " (4.690403977736855, 'edu', 'au', 'fred'),\n",
       " (4.690403463598875, 'beauchaine', 'bobbe@vice.ico.tek', 'com'),\n",
       " (4.582575295110016, 'sank', 'manhattan', 'sea'),\n",
       " (4.582575116893019, 'stay', 'blew', 'bronx'),\n",
       " (4.5825749881807445, 'uucp', 'frank', 'dwyer'),\n",
       " (4.582574671350529, 'away', 'sank', 'manhattan'),\n",
       " (4.582574671350529, 'bronx', 'away', 'sank'),\n",
       " (4.582574573864308, 'blew', 'bronx', 'away'),\n",
       " (4.582570065126627, 'queens', 'could', 'stay'),\n",
       " (4.582569528952416, 'could', 'stay', 'blew'),\n",
       " (4.5825483409317584, 'com', 'said', 'queens'),\n",
       " (4.582538333361973, 'said', 'queens', 'could'),\n",
       " (4.582515776617376, 'bobbe@vice.ico.tek', 'com', 'said'),\n",
       " (4.472135385962538, 'frank@d012s658', 'uucp', 'frank'),\n",
       " (4.4721308552206445, 'snm6394@ultb.isc.rit', 'edu', 'n'),\n",
       " (4.472127128459116, 'edu', 'n', 'mozumder')]"
      ]
     },
     "execution_count": 81,
     "metadata": {},
     "output_type": "execute_result"
    }
   ],
   "source": [
    "t_scored[:30]"
   ]
  },
  {
   "cell_type": "code",
   "execution_count": 93,
   "metadata": {},
   "outputs": [],
   "source": [
    "import math \n",
    "\n",
    "def mi_score(items):\n",
    "    _3_grams = make_3_gram(items[0:]) + make_3_gram(items[1:]) + make_3_gram(items[2:])\n",
    "    \n",
    "    result = []\n",
    "\n",
    "    for _1, _2, _3 in _3_grams:\n",
    "        frequency = get_frequency(frequency_cache_n_grams, (_1,_2,_3), _3_grams)\n",
    "        _1_frequency = get_frequency(frequency_cache, _1, items)\n",
    "        _2_frequency = get_frequency(frequency_cache, _2, items)\n",
    "        _3_frequency = get_frequency(frequency_cache, _3, items)\n",
    "        \n",
    "        mi_score = math.log2((frequency * (len(items)**2))/(_1_frequency * _2_frequency * _3_frequency))\n",
    "        result.append((mi_score, _1, _2, _3))\n",
    "\n",
    "    return result\n",
    "        \n",
    "mi_scored = sorted(mi_score(items[:]), key = itemgetter(0), reverse=True)\n",
    "mi_scored = list(dict.fromkeys(mi_scored))"
   ]
  },
  {
   "cell_type": "code",
   "execution_count": 94,
   "metadata": {},
   "outputs": [
    {
     "data": {
      "text/plain": [
       "[(32.48638516490747, 'deluxe', 'moulded', '3d'),\n",
       " (32.48638516490747, 'cathedral', 'beneath', 'oceans'),\n",
       " (32.48638516490747, 'dunkle', 'seite', 'des'),\n",
       " (32.48638516490747, 'astrology', 'graphology', 'pseudo-sciences'),\n",
       " (32.48638516490747,\n",
       "  '7ltvtmvtu66nz6sbbpw9qkbjarby',\n",
       "  's2sz9nf5htdii0r6sseypl0r6',\n",
       "  '9bv9oke'),\n",
       " (32.48638516490747, 'mellish', 'fog', 'ic'),\n",
       " (32.48638516490747, '87', 'allergic', 'mollusks'),\n",
       " (32.48638516490747, 'cis', 'id#', '71611,365'),\n",
       " (32.48638516490747, 'buddism', 'instant', 'hislife'),\n",
       " (32.48638516490747, 'straight(', 'arrow', '17-year'),\n",
       " (32.48638516490747, 'sky', 'volcanoes', 'earthquakes'),\n",
       " (32.48638516490747, 'acme', 'bbs', '+64'),\n",
       " (32.48638516490747, 'replication', 'saves', 'replicators'),\n",
       " (32.48638516490747, 'al-qanawi', 'ref', 'bouhdiba'),\n",
       " (32.48638516490747, 'jaca', 'negra', 'luna'),\n",
       " (32.48638516490747, 'aceitunas', 'en', 'mi'),\n",
       " (32.48638516490747, 'aunque', 'sepa', 'los'),\n",
       " (32.48638516490747, 'muddleheaded', 'fourth-', 'reich-sophistique'),\n",
       " (32.48638516490747, 'madamme', 'murry', 'hare('),\n",
       " (32.48638516490747, 'paintings', 'parks', 'chistmas'),\n",
       " (32.48638516490747, 'twpierce@unix.amherst.edu', 'del', 'asesino'),\n",
       " (32.48638516490747, 'fatti', 'maschii', 'parole'),\n",
       " (32.48638516490747, 'passel', 'sterile', 'workers'),\n",
       " (32.48638516490747, 'troll', 'arpa', 'mikec%sail'),\n",
       " (32.48638516490747, 'resident', 'skeptic', 'csnet'),\n",
       " (32.48638516490747, 'particles', 'inversely', 'proportional'),\n",
       " (32.48638516490747,\n",
       "  'c52oys.2clj@austin.ibm.com',\n",
       "  'yoder@austin.ibm.com',\n",
       "  'stuart'),\n",
       " (32.48638516490747, 'tasteless', 'ham', 'sandwich'),\n",
       " (32.48638516490747, 'reluctantly', 'mobs', 'pakistan'),\n",
       " (32.48638516490747, 'awaited', 'anticipation', '--dave')]"
      ]
     },
     "execution_count": 94,
     "metadata": {},
     "output_type": "execute_result"
    }
   ],
   "source": [
    "mi_scored[:30]"
   ]
  },
  {
   "cell_type": "code",
   "execution_count": 87,
   "metadata": {},
   "outputs": [
    {
     "data": {
      "text/plain": [
       "[('#what', 'mediated', 'thair'),\n",
       " (')\",', 'clarendon', 'paperbacks'),\n",
       " ('1938', 'websters', 'nonetheless'),\n",
       " ('402', 'notre', 'dame'),\n",
       " ('7119', 'laurel', 'canyon'),\n",
       " ('844-7298', 'telex', '5560074'),\n",
       " ('93apr18124333@solan10.solan.unit', 'no>', 'cindy@solan10.solan.unit'),\n",
       " ('<1993apr16.130430', '1@ccsua.ctstateu.edu>', 'kellyb@ccsua.ctstateu.edu'),\n",
       " ('<cindy', '93apr18124333@solan10.solan.unit', 'no>'),\n",
       " ('<ednclark', '734054731@kraken>', 'ednclark@kraken.itc.gu'),\n",
       " ('<monack', '733980580@helium>', 'monack@helium.gas.uug'),\n",
       " ('[...numerous', 'ctrl-ls', 'deleted...hehehe...]'),\n",
       " ('[judges', '13.5]', '\"...conceive'),\n",
       " ('_by_defending_myself_against_the_jew',\n",
       "  ',_i_am_',\n",
       "  'fighting_for_the_work_of_the_lord'),\n",
       " ('_the_wholly_babble', ':_the_users_guide_to_invisible_', '_pink_unicorns_'),\n",
       " ('abnormal', 'psych', 'ward'),\n",
       " ('aceitunas', 'en', 'mi'),\n",
       " ('acme', 'bbs', '+64'),\n",
       " ('anon', 'pts@ecl.psu.edu', 'ob'),\n",
       " ('aunque', 'sepa', 'los'),\n",
       " ('bury', 'strangers', 'in...'),\n",
       " ('cis', 'id#', '71611,365'),\n",
       " ('com@relay.cs.net', 'resident', 'skeptic'),\n",
       " ('cruell', 'nailes', 'plucke'),\n",
       " ('deluxe', 'moulded', '3d'),\n",
       " ('dunkle', 'seite', 'des'),\n",
       " ('en', 'mi', 'alforja'),\n",
       " ('fundy', 'loonie', 'freshman'),\n",
       " ('gottes', 'erste', 'diener'),\n",
       " ('h2y', '1c8', 'tel')]"
      ]
     },
     "execution_count": 87,
     "metadata": {},
     "output_type": "execute_result"
    }
   ],
   "source": [
    "import nltk\n",
    "from nltk.collocations import *\n",
    "from nltk.corpus import PlaintextCorpusReader\n",
    "\n",
    "trigram_measures = nltk.collocations.TrigramAssocMeasures()\n",
    "\n",
    "tokens = [row.replace(\"\\n\", '').split('\\t')[0].lower() for row in tsv]\n",
    "\n",
    "text = nltk.Text(tokens)\n",
    "\n",
    "finder_thr = TrigramCollocationFinder.from_words(text)\n",
    "\n",
    "\n",
    "finder_thr.nbest(trigram_measures.pmi, 30)"
   ]
  }
 ],
 "metadata": {
  "kernelspec": {
   "display_name": "Python 3.9.13 ('nlp')",
   "language": "python",
   "name": "python3"
  },
  "language_info": {
   "codemirror_mode": {
    "name": "ipython",
    "version": 3
   },
   "file_extension": ".py",
   "mimetype": "text/x-python",
   "name": "python",
   "nbconvert_exporter": "python",
   "pygments_lexer": "ipython3",
   "version": "3.9.13"
  },
  "orig_nbformat": 4,
  "vscode": {
   "interpreter": {
    "hash": "239a9fa0287fc0fb48e1b84671738ced5172aadbf780861bac62c840610302f8"
   }
  }
 },
 "nbformat": 4,
 "nbformat_minor": 2
}
