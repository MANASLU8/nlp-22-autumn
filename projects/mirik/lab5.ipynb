{
 "cells": [
  {
   "cell_type": "code",
   "execution_count": null,
   "metadata": {},
   "outputs": [],
   "source": [
    "def get_train_test():\n",
    "    x_train = []\n",
    "    y_train = []\n",
    "    with open(\"assets/annotated-corpus/train-embeddings.tsv\", \"r\") as file:\n",
    "        for line in file:\n",
    "            if len(line) < 100:\n",
    "                continue\n",
    "            train = line.split('\\t')\n",
    "            # убрать \\n\n",
    "            train = train[:-1] + [train[-1][:-1]]\n",
    "            x_train.append(train[1:])\n",
    "            y_train.append(train[0].split('/')[0])\n",
    "    x_test = []\n",
    "    y_test = []\n",
    "    with open(\"assets/annotated-corpus/test-embeddings.tsv\", \"r\") as file:\n",
    "        for line in file:\n",
    "            if len(line) < 100:\n",
    "                continue\n",
    "            test = line.split('\\t')\n",
    "            # убрать \\n\n",
    "            test = test[:-1] + [test[-1][:-1]]\n",
    "            x_test.append(test[1:])\n",
    "            y_test.append(test[0].split('/')[0])\n",
    "    return x_train, y_train, x_test, y_test"
   ]
  },
  {
   "cell_type": "code",
   "execution_count": null,
   "metadata": {},
   "outputs": [],
   "source": [
    "from sklearn.svm import SVC\n",
    "from sklearn.neural_network import MLPClassifier\n",
    "from sklearn.preprocessing import LabelEncoder\n",
    "from sklearn.decomposition import PCA\n",
    "from time import time\n",
    "import numpy as np\n",
    "import pandas as pd"
   ]
  },
  {
   "cell_type": "code",
   "execution_count": null,
   "metadata": {},
   "outputs": [],
   "source": [
    "def confusion_matrix(test, pred):\n",
    "    df = pd.crosstab(test, pred, rownames=['Actual'], colnames=['Predicted'])\n",
    "    for index, row in df.iterrows():\n",
    "        if index not in df.columns:\n",
    "            df[index] = 0\n",
    "    return df\n",
    "\n",
    "def calc_accuracy(conf_matrix_df):\n",
    "    sum_all = conf_matrix_df.values.sum()\n",
    "    pos = 0\n",
    "    for index, row in conf_matrix_df.iterrows():\n",
    "        try:\n",
    "            pos += conf_matrix_df[index].loc[index]\n",
    "        except:\n",
    "            pass\n",
    "    return round(pos/sum_all, 2)\n",
    "\n",
    "def calc_precision(conf_matrix_df):\n",
    "    # Нахождение precision для каждого класса, затем усреднение найденных precision\n",
    "    return round((np.diag(conf_matrix_df) / np.sum(conf_matrix_df, axis=0)).mean(axis=0), 2)\n",
    "\n",
    "def calc_recall(conf_matrix_df):\n",
    "    # Нахождение recall для каждого класса, затем усреднение найденных recall\n",
    "    return round((np.diag(conf_matrix_df) / np.sum(conf_matrix_df, axis=1)).mean(axis=0), 2)\n",
    "\n",
    "def calc_f1(precision, recall):\n",
    "    return round((2 * precision * recall / (precision + recall)), 2)\n",
    "\n",
    "\n",
    "def score(test, pred):\n",
    "    conf_matrix = confusion_matrix(test, pred)\n",
    "    accuracy = calc_accuracy(conf_matrix)\n",
    "    precision = calc_precision(conf_matrix)\n",
    "    recall = calc_recall(conf_matrix)\n",
    "    f1 = calc_f1(precision, recall)\n",
    "    return conf_matrix, accuracy, precision, recall, f1"
   ]
  },
  {
   "cell_type": "code",
   "execution_count": null,
   "metadata": {},
   "outputs": [],
   "source": [
    "def svc_linear(x_train, y_train, x_test, y_test):\n",
    "    svc_lin = SVC(kernel=\"linear\", random_state=10)\n",
    "    time_start = time()\n",
    "    svc_lin.fit(x_train, y_train)\n",
    "    time_end = time()\n",
    "    pred_lin = svc_lin.predict(x_test)\n",
    "    conf_matrix, accuracy, precision, recall, f1 = score(y_test, pred_lin)\n",
    "    print(f'Model: {svc_lin}, training time: {time_end-time_start}\\n\\n', f'{conf_matrix.to_string()}\\n\\n',\n",
    "          f'accuracy: {accuracy}\\n', f'precision: {precision}\\n', f'recall: {recall}\\n', f'f1: {f1}\\n\\n')"
   ]
  },
  {
   "cell_type": "code",
   "execution_count": null,
   "metadata": {},
   "outputs": [],
   "source": [
    "def svc_poly(x_train, y_train, x_test, y_test):\n",
    "    svc_poly = SVC(kernel=\"poly\", random_state=10)\n",
    "    time_start = time()\n",
    "    svc_poly.fit(x_train, y_train)\n",
    "    time_end = time()\n",
    "    pred_poly = svc_poly.predict(x_test)\n",
    "    conf_matrix, accuracy, precision, recall, f1 = score(y_test, pred_poly)\n",
    "    print(f'Model: {svc_poly}, training time: {time_end-time_start}\\n\\n', f'{conf_matrix.to_string()}\\n\\n',\n",
    "          f'accuracy: {accuracy}\\n', f'precision: {precision}\\n', f'recall: {recall}\\n', f'f1: {f1}\\n\\n')"
   ]
  },
  {
   "cell_type": "code",
   "execution_count": null,
   "metadata": {},
   "outputs": [],
   "source": [
    "def svc_rbf(x_train, y_train, x_test, y_test):\n",
    "    svc_rbf = SVC(kernel=\"rbf\", class_weight=\"balanced\",\n",
    "                  decision_function_shape=\"ovr\", random_state=10)\n",
    "    time_start = time()\n",
    "    svc_rbf.fit(x_train, y_train)\n",
    "    time_end = time()\n",
    "    pred_rbf = svc_rbf.predict(x_test)\n",
    "    conf_matrix, accuracy, precision, recall, f1 = score(y_test, pred_rbf)\n",
    "    print(f'Model: {svc_rbf}, training time: {time_end-time_start}\\n\\n', f'{conf_matrix.to_string()}\\n\\n',\n",
    "          f'accuracy: {accuracy}\\n', f'precision: {precision}\\n', f'recall: {recall}\\n', f'f1: {f1}\\n\\n')"
   ]
  },
  {
   "cell_type": "code",
   "execution_count": null,
   "metadata": {},
   "outputs": [],
   "source": [
    "def mlp_classify(x_train, y_train, x_test, y_test, max_iter):\n",
    "    mlp = MLPClassifier(max_iter=max_iter)\n",
    "    encoder = LabelEncoder()\n",
    "    x_train = np.array(x_train, dtype=float)\n",
    "    x_test = np.array(x_test, dtype=float)\n",
    "    y_train = encoder.fit_transform(y_train)\n",
    "    y_test = encoder.transform(y_test)\n",
    "    time_start = time()\n",
    "    mlp.fit(x_train, y_train)\n",
    "    time_end = time()\n",
    "    pred_mlp = mlp.predict(x_test)\n",
    "    conf_matrix, accuracy, precision, recall, f1 = score(y_test, pred_mlp)\n",
    "    print(f'Model: {mlp}, training time: {time_end-time_start}\\n\\n', f'{conf_matrix.to_string()}\\n\\n',\n",
    "            f'accuracy: {accuracy}\\n', f'precision: {precision}\\n', f'recall: {recall}\\n', f'f1: {f1}\\n\\n')"
   ]
  },
  {
   "cell_type": "code",
   "execution_count": null,
   "metadata": {},
   "outputs": [],
   "source": [
    "def svc_by_components(n_components):\n",
    "\n",
    "    x_train, y_train, x_test, y_test = get_train_test()\n",
    "\n",
    "    if n_components:\n",
    "        pca = PCA(n_components=n_components)\n",
    "        x_train = pca.fit_transform(x_train)\n",
    "        x_test = pca.transform(x_test)\n",
    "\n",
    "    svc_linear(x_train, y_train, x_test, y_test)\n",
    "\n",
    "    svc_poly(x_train, y_train, x_test, y_test)\n",
    "\n",
    "    svc_rbf(x_train, y_train, x_test, y_test)\n",
    "\n",
    "    mlp_classify(x_train, y_train, x_test, y_test, 500)\n",
    "    mlp_classify(x_train, y_train, x_test, y_test, 1000)\n",
    "    mlp_classify(x_train, y_train, x_test, y_test, 1500)"
   ]
  },
  {
   "cell_type": "code",
   "execution_count": null,
   "metadata": {},
   "outputs": [],
   "source": [
    "svc_by_components(None)"
   ]
  },
  {
   "cell_type": "code",
   "execution_count": null,
   "metadata": {},
   "outputs": [],
   "source": [
    "svc_by_components(50)"
   ]
  },
  {
   "cell_type": "code",
   "execution_count": null,
   "metadata": {},
   "outputs": [],
   "source": [
    "svc_by_components(10)"
   ]
  }
 ],
 "metadata": {
  "kernelspec": {
   "display_name": "Python 3.9.13 ('base')",
   "language": "python",
   "name": "python3"
  },
  "language_info": {
   "codemirror_mode": {
    "name": "ipython",
    "version": 3
   },
   "file_extension": ".py",
   "mimetype": "text/x-python",
   "name": "python",
   "nbconvert_exporter": "python",
   "pygments_lexer": "ipython3",
   "version": "3.9.13"
  },
  "orig_nbformat": 4,
  "vscode": {
   "interpreter": {
    "hash": "ed4d525ca6dc0f22f8b2fd4dc2dd129f85a6a249447cff82d5014df90417f5a6"
   }
  }
 },
 "nbformat": 4,
 "nbformat_minor": 2
}
