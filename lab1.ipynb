{
 "cells": [
  {
   "cell_type": "code",
   "execution_count": 1,
   "metadata": {},
   "outputs": [
    {
     "name": "stderr",
     "output_type": "stream",
     "text": [
      "c:\\Users\\andermirik\\AppData\\Local\\Programs\\Python\\Python39\\lib\\site-packages\\scipy\\__init__.py:146: UserWarning: A NumPy version >=1.16.5 and <1.23.0 is required for this version of SciPy (detected version 1.23.0\n",
      "  warnings.warn(f\"A NumPy version >={np_minversion} and <{np_maxversion}\"\n"
     ]
    }
   ],
   "source": [
    "import ipywidgets as widgets\n",
    "from ipywidgets import interact, interact_manual\n",
    "from pprint import pprint\n",
    "import os\n",
    "import nltk\n",
    "from nltk.stem import SnowballStemmer\n",
    "from nltk.stem import WordNetLemmatizer"
   ]
  },
  {
   "cell_type": "markdown",
   "metadata": {},
   "source": [
    "## Скачиваем wordnet и omw\n",
    "\n",
    "`Wordnet` нужен чтобы на основе него строить леммы\n",
    "\n",
    "`omw` нужен чтобы делать стеммы"
   ]
  },
  {
   "cell_type": "code",
   "execution_count": 2,
   "metadata": {},
   "outputs": [
    {
     "name": "stderr",
     "output_type": "stream",
     "text": [
      "[nltk_data] Downloading package wordnet to\n",
      "[nltk_data]     C:\\Users\\andermirik\\AppData\\Roaming\\nltk_data...\n",
      "[nltk_data]   Package wordnet is already up-to-date!\n",
      "[nltk_data] Downloading package omw-1.4 to\n",
      "[nltk_data]     C:\\Users\\andermirik\\AppData\\Roaming\\nltk_data...\n",
      "[nltk_data]   Package omw-1.4 is already up-to-date!\n"
     ]
    }
   ],
   "source": [
    "nltk.download('wordnet')\n",
    "nltk.download('omw-1.4')\n",
    "\n",
    "stemmer = SnowballStemmer(language=\"english\")\n",
    "lemmatizer = WordNetLemmatizer()"
   ]
  },
  {
   "cell_type": "markdown",
   "metadata": {},
   "source": [
    "## Регулярки\n",
    "\n",
    "Эти регулярки используются для разбиения по сентензам или по токенам"
   ]
  },
  {
   "cell_type": "code",
   "execution_count": 3,
   "metadata": {},
   "outputs": [],
   "source": [
    "import re\n",
    "alphabets= \"([A-Za-z])\"\n",
    "prefixes = \"(Mr|St|Mrs|Ms|Dr)[.]\"\n",
    "suffixes = \"(Inc|Ltd|Jr|Sr|Co)\"\n",
    "starters = \"(Mr|Mrs|Ms|Dr|He\\s|She\\s|It\\s|They\\s|Their\\s|Our\\s|We\\s|But\\s|However\\s|That\\s|This\\s|Wherever)\"\n",
    "acronyms = \"([A-Z][.][A-Z][.](?:[A-Z][.])?)\"\n",
    "websites = \"[.](com|net|org|io|gov|me|edu|ru|ua)\"\n",
    "digits = \"([0-9])\"\n",
    "word = \"([A-Za-z0-9][A-Za-z0-9]*)\"\n",
    "number = \"([1-9][0-9]*)\"\n"
   ]
  },
  {
   "cell_type": "markdown",
   "metadata": {},
   "source": [
    "## Бьём на сентензы (утверждения)\n",
    "\n",
    "Суть в том чтобы разбить по условным знакам окончания предложения разбить на эти самые предложения.\n",
    "\n",
    "Внутри предложения могут быть другие точки, прим: адрес электронной почты. Эти точки нужно экранировать например как `<dot>` и в самом конце сделать `replace` `text` по `<dot>`\n",
    "У меня в коде `<dot>` это `<prd>`"
   ]
  },
  {
   "cell_type": "code",
   "execution_count": 57,
   "metadata": {},
   "outputs": [
    {
     "data": {
      "text/plain": [
       "['In article <1993Mar25.161909.8110@wuecl.wustl.edu> dp@cec1.wustl.edu (David Prutchi) writes: In article <C4CntG.Jv4@spk.hp.com> long@spk.hp.com (Jerry Long) writes: Fred W. Culpepper (fculpepp@norfolk.vak12ed.edu) wrote: [...] A couple of years ago I put together a Tesla circuit which was published in an electronics magazine and could have been the circuit which is referred to here.',\n",
       " 'This one used a flyback transformer from a tv onto which you wound your own primary windings.',\n",
       " \"It also used 2 power transistors in a TO 3 [...] 10 years ago I built a 1'000,000 volt Tesla, and the thing was VERY spectacular, but besides scaring/amazing friends (depending on their knowledge of Science), and generating strong EMI, I never found anything useful that could be done with it ...  Is there any real-world application for Tesla coils today ?\"]"
      ]
     },
     "execution_count": 57,
     "metadata": {},
     "output_type": "execute_result"
    }
   ],
   "source": [
    "def split_into_sentences(text):\n",
    "    text = \" \" + text + \"  \"\n",
    "    text = text.replace(\"\\n>>>>\",\" \")\n",
    "    text = text.replace(\"\\n>>>\",\" \")\n",
    "    text = text.replace(\"\\n>>\",\" \")\n",
    "    text = text.replace(\"\\n>\",\" \")\n",
    "    text = text.replace(\"\\n\",\" \")\n",
    "    text = re.sub(f\"<{word}[.]{word}[.]{word}[.]{word}@{word}[.]{word}[.]{word}>\", \"<\\\\1<prd>\\\\2<prd>\\\\3<prd>\\\\4@\\\\5<prd>\\\\6<prd>\\\\7>\", text)\n",
    "    text = re.sub(f\"<{word}[.]{word}@{word}[.]{word}[.]{word}>\", \"<\\\\1<prd>\\\\2@\\\\3<prd>\\\\4<prd>\\\\5>\", text)\n",
    "    text = re.sub(f\"{word}@{word}[.]{word}[.]{word}\", \"\\\\1@\\\\2<prd>\\\\3<prd>\\\\4\", text)\n",
    "    text = re.sub(prefixes,\"\\\\1<prd>\",text)\n",
    "    text = re.sub(websites,\"<prd>\\\\1\",text)\n",
    "    text = re.sub(digits + \"[.]\" + digits,\"\\\\1<prd>\\\\2\",text)\n",
    "    if \"...\" in text: text = text.replace(\"...\",\"<prd><prd><prd>\")\n",
    "    if \"Ph.D\" in text: text = text.replace(\"Ph.D.\",\"Ph<prd>D<prd>\")\n",
    "    text = re.sub(\"\\s\" + alphabets + \"[.] \",\" \\\\1<prd> \",text)\n",
    "    text = re.sub(acronyms+\" \"+starters,\"\\\\1<stop> \\\\2\",text)\n",
    "    text = re.sub(alphabets + \"[.]\" + alphabets + \"[.]\" + alphabets + \"[.]\",\"\\\\1<prd>\\\\2<prd>\\\\3<prd>\",text)\n",
    "    text = re.sub(alphabets + \"[.]\" + alphabets + \"[.]\",\"\\\\1<prd>\\\\2<prd>\",text)\n",
    "    text = re.sub(\" \"+suffixes+\"[.] \"+starters,\" \\\\1<stop> \\\\2\",text)\n",
    "    text = re.sub(\" \"+suffixes+\"[.]\",\" \\\\1<prd>\",text)\n",
    "    text = re.sub(\" \" + alphabets + \"[.]\",\" \\\\1<prd>\",text)\n",
    "    if \"”\" in text: text = text.replace(\".”\",\"”.\")\n",
    "    if \"\\\"\" in text: text = text.replace(\".\\\"\",\"\\\".\")\n",
    "    if \"!\" in text: text = text.replace(\"!\\\"\",\"\\\"!\")\n",
    "    if \"?\" in text: text = text.replace(\"?\\\"\",\"\\\"?\")\n",
    "    text = text.replace(\".\",\".<stop>\")\n",
    "    text = text.replace(\"?\",\"?<stop>\")\n",
    "    text = text.replace(\"!\",\"!<stop>\")\n",
    "    text = text.replace(\"<prd>\",\".\")\n",
    "    sentences = text.split(\"<stop>\")\n",
    "    sentences = sentences[:-1]\n",
    "    sentences = [s.strip() for s in sentences]\n",
    "    return sentences\n",
    "\n",
    "split_into_sentences(\"\"\"\n",
    "In article <1993Mar25.161909.8110@wuecl.wustl.edu> dp@cec1.wustl.edu (David Prutchi) writes:\n",
    ">In article <C4CntG.Jv4@spk.hp.com> long@spk.hp.com (Jerry Long) writes:\n",
    ">>Fred W. Culpepper (fculpepp@norfolk.vak12ed.edu) wrote:\n",
    ">>[...]\n",
    ">>A couple of years ago I put together a Tesla circuit which\n",
    ">>was published in an electronics magazine and could have been\n",
    ">>the circuit which is referred to here. This one used a\n",
    ">>flyback transformer from a tv onto which you wound your own\n",
    ">>primary windings. It also used 2 power transistors in a TO 3\n",
    ">[...]\n",
    ">10 years ago I built a 1'000,000 volt Tesla, and the thing was VERY\n",
    ">spectacular, but besides scaring/amazing friends (depending on their\n",
    ">knowledge of Science), and generating strong EMI, I never found anything\n",
    ">useful that could be done with it ...  Is there any real-world application\n",
    ">for Tesla coils today ?\n",
    ">\n",
    ">David Prutchi\n",
    "\"\"\")"
   ]
  },
  {
   "cell_type": "markdown",
   "metadata": {},
   "source": [
    "## Функция для сплита письма на заголовок и тело письма"
   ]
  },
  {
   "cell_type": "code",
   "execution_count": 5,
   "metadata": {},
   "outputs": [],
   "source": [
    "def split_mail(text):\n",
    "    head_body = text.split(\"\\n\\n\")\n",
    "    return head_body[0], \"\\n\\n\".join(head_body[1:]) "
   ]
  },
  {
   "cell_type": "markdown",
   "metadata": {},
   "source": [
    "## Пример письма"
   ]
  },
  {
   "cell_type": "code",
   "execution_count": 255,
   "metadata": {},
   "outputs": [
    {
     "name": "stdout",
     "output_type": "stream",
     "text": [
      "From: et@teal.csn.org (Eric H. Taylor)\n",
      "Subject: Re: HELP_WITH_TRACKING_DEVICE\n",
      "Summary: underground and underwater wireless methods\n",
      "Keywords: Rogers, Tesla, Hertz, underground, underwater, wireless, radio\n",
      "Nntp-Posting-Host: teal.csn.org\n",
      "Organization: 4-L Laboratories\n",
      "Expires: Fri, 30 Apr 1993 06:00:00 GMT\n",
      "Lines: 36\n",
      "\n",
      "In article <00969FBA.E640FF10@AESOP.RUTGERS.EDU> mcdonald@AESOP.RUTGERS.EDU writes:\n",
      ">[...]\n",
      ">There are a variety of water-proof housings I could use but the real meat\n",
      ">of the problem is the electronics...hence this posting.  What kind of\n",
      ">transmission would be reliable underwater, in murky or even night-time\n",
      ">conditions?  I'm not sure if sound is feasible given the distortion under-\n",
      ">water...obviously direction would have to be accurate but range could be\n",
      ">relatively short (I imagine 2 or 3  hundred yards would be more than enough)\n",
      ">\n",
      ">Jim McDonald\n",
      "\n",
      "Refer to patents by JAMES HARRIS ROGERS:\n",
      "958,829; 1,220,005; 1,322,622; 1,349,103; 1,315,862; 1,349,104;\n",
      "1,303,729; 1,303,730; 1,316,188\n",
      "\n",
      "He details methods of underground and underwater wireless communications.\n",
      "For a review, refer to _Electrical_Experimenter_, March 1919 and June 1919.\n",
      "\n",
      "Rogers' methods were used extensively during the World War, and was\n",
      "unclassified after the war. Supposedly, the government rethought this\n",
      "soon after, and Rogers was convieniently forgotten.\n",
      "\n",
      "The bottom line is that all antennas that are grounded send HALF of\n",
      "their signal THRU the ground. The half that travels thru space is\n",
      "quickly dissapated (by the square of the distance), but that which\n",
      "travels thru the ground does not disapate at all. Furthermore,\n",
      "the published data showed that when noise drowned out regular\n",
      "reception, the underground antennas would recieve virtually noise-free.\n",
      "\n",
      "IF you find this hard to believe, then refer to the work of the\n",
      "man who INVENTED wireless: Tesla. Tesla confirmed that Rogers' methods\n",
      "were correct, while Hertzian wave theory was completely \"abberant\".\n",
      "\n",
      "----\n",
      " ET   \"Tesla was 100 years ahead of his time. Perhaps now his time comes.\"\n",
      "----\n",
      "\n"
     ]
    }
   ],
   "source": [
    "mail = open(\"20news-bydate-train/sci.electronics/52434\", \"r\").read()\n",
    "print(mail)\n"
   ]
  },
  {
   "cell_type": "markdown",
   "metadata": {},
   "source": [
    "## Результат сплита"
   ]
  },
  {
   "cell_type": "code",
   "execution_count": 256,
   "metadata": {},
   "outputs": [],
   "source": [
    "head, body = split_mail(mail)"
   ]
  },
  {
   "cell_type": "code",
   "execution_count": 257,
   "metadata": {},
   "outputs": [
    {
     "data": {
      "text/plain": [
       "'From: et@teal.csn.org (Eric H. Taylor)\\nSubject: Re: HELP_WITH_TRACKING_DEVICE\\nSummary: underground and underwater wireless methods\\nKeywords: Rogers, Tesla, Hertz, underground, underwater, wireless, radio\\nNntp-Posting-Host: teal.csn.org\\nOrganization: 4-L Laboratories\\nExpires: Fri, 30 Apr 1993 06:00:00 GMT\\nLines: 36'"
      ]
     },
     "execution_count": 257,
     "metadata": {},
     "output_type": "execute_result"
    }
   ],
   "source": [
    "head"
   ]
  },
  {
   "cell_type": "code",
   "execution_count": 258,
   "metadata": {},
   "outputs": [
    {
     "data": {
      "text/plain": [
       "'In article <00969FBA.E640FF10@AESOP.RUTGERS.EDU> mcdonald@AESOP.RUTGERS.EDU writes:\\n>[...]\\n>There are a variety of water-proof housings I could use but the real meat\\n>of the problem is the electronics...hence this posting.  What kind of\\n>transmission would be reliable underwater, in murky or even night-time\\n>conditions?  I\\'m not sure if sound is feasible given the distortion under-\\n>water...obviously direction would have to be accurate but range could be\\n>relatively short (I imagine 2 or 3  hundred yards would be more than enough)\\n>\\n>Jim McDonald\\n\\nRefer to patents by JAMES HARRIS ROGERS:\\n958,829; 1,220,005; 1,322,622; 1,349,103; 1,315,862; 1,349,104;\\n1,303,729; 1,303,730; 1,316,188\\n\\nHe details methods of underground and underwater wireless communications.\\nFor a review, refer to _Electrical_Experimenter_, March 1919 and June 1919.\\n\\nRogers\\' methods were used extensively during the World War, and was\\nunclassified after the war. Supposedly, the government rethought this\\nsoon after, and Rogers was convieniently forgotten.\\n\\nThe bottom line is that all antennas that are grounded send HALF of\\ntheir signal THRU the ground. The half that travels thru space is\\nquickly dissapated (by the square of the distance), but that which\\ntravels thru the ground does not disapate at all. Furthermore,\\nthe published data showed that when noise drowned out regular\\nreception, the underground antennas would recieve virtually noise-free.\\n\\nIF you find this hard to believe, then refer to the work of the\\nman who INVENTED wireless: Tesla. Tesla confirmed that Rogers\\' methods\\nwere correct, while Hertzian wave theory was completely \"abberant\".\\n\\n----\\n ET   \"Tesla was 100 years ahead of his time. Perhaps now his time comes.\"\\n----\\n'"
      ]
     },
     "execution_count": 258,
     "metadata": {},
     "output_type": "execute_result"
    }
   ],
   "source": [
    "body"
   ]
  },
  {
   "cell_type": "code",
   "execution_count": 259,
   "metadata": {},
   "outputs": [
    {
     "data": {
      "text/plain": [
       "['In article <00969FBA.E640FF10@AESOP.RUTGERS.EDU> mcdonald@AESOP.RUTGERS.EDU writes: [...] There are a variety of water-proof housings I could use but the real meat of the problem is the electronics...hence this posting.',\n",
       " 'What kind of transmission would be reliable underwater, in murky or even night-time conditions?',\n",
       " \"I'm not sure if sound is feasible given the distortion under- water...obviously direction would have to be accurate but range could be relatively short (I imagine 2 or 3  hundred yards would be more than enough)  Jim McDonald  Refer to patents by JAMES HARRIS ROGERS: 958,829; 1,220,005; 1,322,622; 1,349,103; 1,315,862; 1,349,104; 1,303,729; 1,303,730; 1,316,188  He details methods of underground and underwater wireless communications.\",\n",
       " 'For a review, refer to _Electrical_Experimenter_, March 1919 and June 1919.',\n",
       " \"Rogers' methods were used extensively during the World War, and was unclassified after the war.\",\n",
       " 'Supposedly, the government rethought this soon after, and Rogers was convieniently forgotten.',\n",
       " 'The bottom line is that all antennas that are grounded send HALF of their signal THRU the ground.',\n",
       " 'The half that travels thru space is quickly dissapated (by the square of the distance), but that which travels thru the ground does not disapate at all.',\n",
       " 'Furthermore, the published data showed that when noise drowned out regular reception, the underground antennas would recieve virtually noise-free.',\n",
       " 'IF you find this hard to believe, then refer to the work of the man who INVENTED wireless: Tesla.',\n",
       " 'Tesla confirmed that Rogers\\' methods were correct, while Hertzian wave theory was completely \"abberant\".',\n",
       " '----  ET   \"Tesla was 100 years ahead of his time.',\n",
       " 'Perhaps now his time comes\".']"
      ]
     },
     "execution_count": 259,
     "metadata": {},
     "output_type": "execute_result"
    }
   ],
   "source": [
    "items = split_into_sentences(body)\n",
    "# for item in items:\n",
    "#     print(item)\n",
    "\n",
    "items"
   ]
  },
  {
   "cell_type": "markdown",
   "metadata": {},
   "source": [
    "## Бьём на токены\n",
    "\n",
    "`tokenize` принимает на вход предложение и внутри него ищет токены.\n",
    "\n",
    "Снова Сначала ищем email и т п, реплейсим все точки запятые на `<dot>` `<coma>`\n",
    "\n",
    "\n",
    "После того как их зареплейсили, можно бить по точкам, запятым и прочему мусору.\n",
    "\n",
    "После того как побили токен, внутри него реплейсим `<dot>` обратно на точку, `<coma> обратно на запятую`\n",
    "\n",
    "В конце функции считаем стемму по токену, по стемме считаем лемму\n",
    "\n",
    "Интеракт функция - слайдер чтобы можно было листать предложения и смотреть результат разбиения в интеративе"
   ]
  },
  {
   "cell_type": "code",
   "execution_count": 58,
   "metadata": {},
   "outputs": [
    {
     "name": "stdout",
     "output_type": "stream",
     "text": [
      "49960\n"
     ]
    },
    {
     "data": {
      "application/vnd.jupyter.widget-view+json": {
       "model_id": "28b5ff74a7494165a7f45387e14dc21e",
       "version_major": 2,
       "version_minor": 0
      },
      "text/plain": [
       "interactive(children=(IntSlider(value=0, description='i', max=103), Output()), _dom_classes=('widget-interact'…"
      ]
     },
     "metadata": {},
     "output_type": "display_data"
    }
   ],
   "source": [
    "from re import S\n",
    "\n",
    "\n",
    "files = os.listdir(\"20news-bydate-train/alt.atheism/\")\n",
    "file = 0\n",
    "print(files[file])\n",
    "mail = open(\"20news-bydate-train/alt.atheism/\" + files[file], \"r\").read()\n",
    "head, body = split_mail(mail)\n",
    "\n",
    "def tokenize(sentence):\n",
    "    #TODO: Можно еще смайлики добавить но мне влом их все перегонять в словарь\n",
    "    #TODO: Можно еще добавить время 22:11\n",
    "    sentence = re.sub(f\">{word}\", \"><split>\\\\1\", sentence)\n",
    "\n",
    "    sentence = re.sub(f\"\\\\({word}\", \"(<split>\\\\1\", sentence)\n",
    "    sentence = re.sub(f\"{word}\\\\)\", \"\\\\1<split>)\", sentence)\n",
    "    sentence = re.sub(f\"I'm\", \"I<split>am\", sentence)\n",
    "\n",
    "    sentence = re.sub(f\"${word}'d\", \"\\\\1<split>woud\", sentence)\n",
    "    sentence = re.sub(f\"{number},{number}\", \"\\\\1<coma>\\\\2\", sentence)\n",
    "\n",
    "    sentence = re.sub(f\"{number},{number},{number}\", \"\\\\1<coma>\\\\2<coma>\\\\3\", sentence)\n",
    "\n",
    "    sentence = re.sub(f\"{number}'{number},{number}\", \"\\\\1'\\\\2<coma>\\\\3\", sentence)\n",
    "\n",
    "    sentence = re.sub(f\"{number}[.]{number}\", \"\\\\1<dot>\\\\2\", sentence)\n",
    "    sentence = re.sub(f\"{number}[.]{number}.{number}\", \"\\\\1<dot>\\\\2<dot>\\\\3\", sentence)\n",
    "\n",
    "    sentence = re.sub(f\"{word}[.]{word}[.]{word}@{word}[.]{word}[.]{word}\", \"<split>\\\\1<dot>\\\\2<dot>\\\\3@\\\\4<dot>\\\\5<dot>\\\\6<split>\", sentence)\n",
    "    sentence = re.sub(f\"<{word}[.]{word}@{word}[.]{word}[.]{word}>\", \"<split>\\\\1<dot>\\\\2@\\\\3<dot>\\\\4<dot>\\\\5<split>\", sentence)\n",
    "    sentence = re.sub(f\"{word}@{word}[.]{word}[.]{word}\", \"\\\\1@\\\\2<dot>\\\\3<dot>\\\\4<split>\", sentence)\n",
    "    print(sentence)\n",
    "    sentence = re.sub(f\"<{word}@{word}[.]{word}>\", \"<<split>\\\\1@\\\\2<dot>\\\\3<split>><split>\", sentence)\n",
    "    sentence = re.sub(f\"{word}@{word}[.]{word}\", \"\\\\1@\\\\2<dot>\\\\3<split>\", sentence)\n",
    "    print(sentence)\n",
    "    sentence = re.sub(f\"<{word}[.]{word}@{word}[.]{word}[.]{word}>\", \"<split>\\\\1<dot>\\\\2@\\\\3<dot>\\\\4<dot>\\\\5<split>\", sentence)\n",
    "\n",
    "    sentence = sentence.replace(\"...\", '<dot><dot><dot>')\n",
    "    for r in \" \":\n",
    "        sentence = sentence.replace(r, '<split>')\n",
    "    for r in [\".\", \",\",\":\",\";\",\"?\",\"!\", '\"', \"'\", \"/\", \"*\", \"$\"]:\n",
    "        sentence = re.sub(f\"\\\\{r}{word}\", f\"{r}<split>\\\\1\", sentence)\n",
    "        sentence = re.sub(f\"{word}\\\\{r}\", f\"\\\\1<split>{r}\", sentence)\n",
    "\n",
    "    sentence = sentence.replace(\"<dot>\", \".\")\n",
    "\n",
    "    sentence = sentence.replace(\"<coma>\", \",\")\n",
    "\n",
    "    tokens = sentence.split('<split>')\n",
    "    return [(x, stemmer.stem(x), lemmatizer.lemmatize(stemmer.stem(x))) for x in tokens if x]\n",
    "\n",
    "maxI = len(split_into_sentences(body)) - 1\n",
    "\n",
    "@interact\n",
    "def test(i=widgets.IntSlider(min=0,max=maxI,step=1,value=0)):\n",
    "    sentence = split_into_sentences(body)[i]\n",
    "    pprint(sentence)\n",
    "    pprint(tokenize(sentence))\n",
    "\n",
    "\n",
    "\n"
   ]
  },
  {
   "cell_type": "markdown",
   "metadata": {},
   "source": [
    "## Бьём на токены все файлы в директории"
   ]
  },
  {
   "cell_type": "code",
   "execution_count": 59,
   "metadata": {},
   "outputs": [
    {
     "name": "stdout",
     "output_type": "stream",
     "text": [
      "From: mathew <mathew@mantis<dot>co<dot>uk<split>> Subject: Alt.\n",
      "From: mathew <mathew@mantis<dot>co<dot>uk<split>> Subject: Alt.\n",
      "Atheism FAQ: Atheist Resources Summary: Books, addresses, music -- anything related to atheism Keywords: FAQ, atheism, books, music, fiction, addresses, contacts Expires: Thu, 29 Apr 1993 11:57:19 GMT Distribution: world Organization: Mantis Consultants, Cambridge.\n",
      "Atheism FAQ: Atheist Resources Summary: Books, addresses, music -- anything related to atheism Keywords: FAQ, atheism, books, music, fiction, addresses, contacts Expires: Thu, 29 Apr 1993 11:57:19 GMT Distribution: world Organization: Mantis Consultants, Cambridge.\n",
      "UK.\n",
      "UK.\n",
      "Telephone: (<split>512<split>)458-1244 Archive-name: atheism/resources Alt-atheism-archive-name: resources Last-modified: 11 December 1992 Version: 1.0                                Atheist Resources                        Addresses of Atheist Organizations                                       USA  FREEDOM FROM RELIGION FOUNDATION  Darwin fish bumper stickers and assorted other atheist paraphernalia are available from the Freedom From Religion Foundation in the US.\n",
      "Telephone: (<split>512<split>)458-1244 Archive-name: atheism/resources Alt-atheism-archive-name: resources Last-modified: 11 December 1992 Version: 1.0                                Atheist Resources                        Addresses of Atheist Organizations                                       USA  FREEDOM FROM RELIGION FOUNDATION  Darwin fish bumper stickers and assorted other atheist paraphernalia are available from the Freedom From Religion Foundation in the US.\n",
      "Write to:  FFRF, P.O. Box 750, Madison, WI 53701.\n",
      "Write to:  FFRF, P.O. Box 750, Madison, WI 53701.\n",
      "Telephone: (<split>608<split>) 256-8900  EVOLUTION DESIGNS  Evolution Designs sell the \"Darwin fish\".\n",
      "Telephone: (<split>608<split>) 256-8900  EVOLUTION DESIGNS  Evolution Designs sell the \"Darwin fish\".\n",
      "It's a fish symbol, like the ones Christians stick on their cars, but with feet and the word \"Darwin\" written inside.\n",
      "It's a fish symbol, like the ones Christians stick on their cars, but with feet and the word \"Darwin\" written inside.\n",
      "The deluxe moulded 3D plastic fish is $4<dot>95 postpaid in the US.\n",
      "The deluxe moulded 3D plastic fish is $4<dot>95 postpaid in the US.\n",
      "Write to:  Evolution Designs, 7119 Laurel Canyon #4, North Hollywood,            CA 91605.\n",
      "Write to:  Evolution Designs, 7119 Laurel Canyon #4, North Hollywood,            CA 91605.\n",
      "People in the San Francisco Bay area can get Darwin Fish from Lynn Gold -- try mailing <figmo@netcom.com>.\n",
      "People in the San Francisco Bay area can get Darwin Fish from Lynn Gold -- try mailing <<split>figmo@netcom<dot>com<split>><split>.\n",
      "For net people who go to Lynn directly, the price is $4<dot>95 per fish.\n",
      "For net people who go to Lynn directly, the price is $4<dot>95 per fish.\n",
      "AMERICAN ATHEIST PRESS  AAP publish various atheist books -- critiques of the Bible, lists of Biblical contradictions, and so on.\n",
      "AMERICAN ATHEIST PRESS  AAP publish various atheist books -- critiques of the Bible, lists of Biblical contradictions, and so on.\n",
      "One such book is:  \"The Bible Handbook\" by W.P. Ball and G.W. Foote.\n",
      "One such book is:  \"The Bible Handbook\" by W.P. Ball and G.W. Foote.\n",
      "American Atheist Press.\n",
      "American Atheist Press.\n",
      "372 pp.\n",
      "372 pp.\n",
      "ISBN 0-910309-26-4, 2nd edition, 1986.\n",
      "ISBN 0-910309-26-4, 2nd edition, 1986.\n",
      "Bible contradictions, absurdities, atrocities, immoralities... contains Ball, Foote: \"The Bible Contradicts Itself\", AAP.\n",
      "Bible contradictions, absurdities, atrocities, immoralities... contains Ball, Foote: \"The Bible Contradicts Itself\", AAP.\n",
      "Based on the King James version of the Bible.\n",
      "Based on the King James version of the Bible.\n",
      "Write to:  American Atheist Press, P.O. Box 140195, Austin, TX 78714-0195.\n",
      "Write to:  American Atheist Press, P.O. Box 140195, Austin, TX 78714-0195.\n",
      "or:  7215 Cameron Road, Austin, TX 78752-2973.\n",
      "or:  7215 Cameron Road, Austin, TX 78752-2973.\n",
      "Telephone: (<split>512<split>) 458-1244 Fax:       (<split>512<split>) 467-9525  PROMETHEUS BOOKS  Sell books including Haught's \"Holy Horrors\" (<split>see below<split>).\n",
      "Telephone: (<split>512<split>) 458-1244 Fax:       (<split>512<split>) 467-9525  PROMETHEUS BOOKS  Sell books including Haught's \"Holy Horrors\" (<split>see below<split>).\n",
      "Write to:  700 East Amherst Street, Buffalo, New York 14215.\n",
      "Write to:  700 East Amherst Street, Buffalo, New York 14215.\n",
      "Telephone: (<split>716<split>) 837-2475.\n",
      "Telephone: (<split>716<split>) 837-2475.\n",
      "An alternate address (<split>which may be newer or older<split>) is: Prometheus Books, 59 Glenn Drive, Buffalo, NY 14228-2197.\n",
      "An alternate address (<split>which may be newer or older<split>) is: Prometheus Books, 59 Glenn Drive, Buffalo, NY 14228-2197.\n",
      "AFRICAN-AMERICANS FOR HUMANISM  An organization promoting black secular humanism and uncovering the history of black freethought.\n",
      "AFRICAN-AMERICANS FOR HUMANISM  An organization promoting black secular humanism and uncovering the history of black freethought.\n",
      "They publish a quarterly newsletter, AAH EXAMINER.\n",
      "They publish a quarterly newsletter, AAH EXAMINER.\n",
      "Write to:  Norm R. Allen, Jr., African Americans for Humanism, P.O. Box 664,            Buffalo, NY 14226.\n",
      "Write to:  Norm R. Allen, Jr., African Americans for Humanism, P.O. Box 664,            Buffalo, NY 14226.\n",
      "United Kingdom  Rationalist Press Association          National Secular Society 88 Islington High Street               702 Holloway Road London N1 8EW                          London N19 3NL 071 226 7251                           071 272 1266  British Humanist Association           South Place Ethical Society 14 Lamb's Conduit Passage              Conway Hall London WC1R 4RH                        Red Lion Square 071 430 0908                           London WC1R 4RL fax 071 430 1271                       071 831 7723  The National Secular Society publish \"The Freethinker\", a monthly magazine founded in 1881.\n",
      "United Kingdom  Rationalist Press Association          National Secular Society 88 Islington High Street               702 Holloway Road London N1 8EW                          London N19 3NL 071 226 7251                           071 272 1266  British Humanist Association           South Place Ethical Society 14 Lamb's Conduit Passage              Conway Hall London WC1R 4RH                        Red Lion Square 071 430 0908                           London WC1R 4RL fax 071 430 1271                       071 831 7723  The National Secular Society publish \"The Freethinker\", a monthly magazine founded in 1881.\n",
      "Germany  IBKA e.V. Internationaler Bund der Konfessionslosen und Atheisten Postfach 880, D-1000 Berlin 41.\n",
      "Germany  IBKA e.V. Internationaler Bund der Konfessionslosen und Atheisten Postfach 880, D-1000 Berlin 41.\n",
      "Germany.\n",
      "Germany.\n",
      "IBKA publish a journal: MIZ.\n",
      "IBKA publish a journal: MIZ.\n",
      "(<split>Materialien und Informationen zur Zeit.\n",
      "(<split>Materialien und Informationen zur Zeit.\n",
      "Politisches Journal der Konfessionslosesn und Atheisten.\n",
      "Politisches Journal der Konfessionslosesn und Atheisten.\n",
      "Hrsg.\n",
      "Hrsg.\n",
      "IBKA e.V.) MIZ-Vertrieb, Postfach 880, D-1000 Berlin 41.\n",
      "IBKA e.V.) MIZ-Vertrieb, Postfach 880, D-1000 Berlin 41.\n",
      "Germany.\n",
      "Germany.\n",
      "For atheist books, write to:  IBDK, Internationaler B\"ucherdienst der Konfessionslosen Postfach 3005, D-3000 Hannover 1.\n",
      "For atheist books, write to:  IBDK, Internationaler B\"ucherdienst der Konfessionslosen Postfach 3005, D-3000 Hannover 1.\n",
      "Germany.\n",
      "Germany.\n",
      "Telephone: 0511/211216                                  Books -- Fiction  THOMAS M. DISCH  \"The Santa Claus Compromise\" Short story.\n",
      "Telephone: 0511/211216                                  Books -- Fiction  THOMAS M. DISCH  \"The Santa Claus Compromise\" Short story.\n",
      "The ultimate proof that Santa exists.\n",
      "The ultimate proof that Santa exists.\n",
      "All characters and  events are fictitious.\n",
      "All characters and  events are fictitious.\n",
      "Any similarity to living or dead gods -- uh, well...  WALTER M. MILLER, JR  \"A Canticle for Leibowitz\" One gem in this post atomic doomsday novel is the monks who spent their lives copying blueprints from \"Saint Leibowitz\", filling the sheets of paper with ink and leaving white lines and letters.\n",
      "Any similarity to living or dead gods -- uh, well...  WALTER M. MILLER, JR  \"A Canticle for Leibowitz\" One gem in this post atomic doomsday novel is the monks who spent their lives copying blueprints from \"Saint Leibowitz\", filling the sheets of paper with ink and leaving white lines and letters.\n",
      "EDGAR PANGBORN  \"Davy\" Post atomic doomsday novel set in clerical states.\n",
      "EDGAR PANGBORN  \"Davy\" Post atomic doomsday novel set in clerical states.\n",
      "The church, for example, forbids that anyone \"produce, describe or use any substance containing... atoms\".\n",
      "The church, for example, forbids that anyone \"produce, describe or use any substance containing... atoms\".\n",
      "PHILIP K. DICK  Philip K. Dick Dick wrote many philosophical and thought-provoking short  stories and novels.\n",
      "PHILIP K. DICK  Philip K. Dick Dick wrote many philosophical and thought-provoking short  stories and novels.\n",
      "His stories are bizarre at times, but very approachable.\n",
      "His stories are bizarre at times, but very approachable.\n",
      "He wrote mainly SF, but he wrote about people, truth and religion rather than technology.\n",
      "He wrote mainly SF, but he wrote about people, truth and religion rather than technology.\n",
      "Although he often believed that he had met some sort of God, he remained sceptical.\n",
      "Although he often believed that he had met some sort of God, he remained sceptical.\n",
      "Amongst his novels, the following are of some relevance:  \"Galactic Pot-Healer\" A fallible alien deity summons a group of Earth craftsmen and women to a remote planet to raise a giant cathedral from beneath the oceans.\n",
      "Amongst his novels, the following are of some relevance:  \"Galactic Pot-Healer\" A fallible alien deity summons a group of Earth craftsmen and women to a remote planet to raise a giant cathedral from beneath the oceans.\n",
      "When the deity begins to demand faith from the earthers, pot-healer Joe Fernwright is unable to comply.\n",
      "When the deity begins to demand faith from the earthers, pot-healer Joe Fernwright is unable to comply.\n",
      "A polished, ironic and amusing novel.\n",
      "A polished, ironic and amusing novel.\n",
      "\"A Maze of Death\" Noteworthy for its description of a technology-based religion.\n",
      "\"A Maze of Death\" Noteworthy for its description of a technology-based religion.\n",
      "\"VALIS\" The schizophrenic hero searches for the hidden mysteries of Gnostic Christianity after reality is fired into his brain by a pink laser beam of unknown but possibly divine origin.\n",
      "\"VALIS\" The schizophrenic hero searches for the hidden mysteries of Gnostic Christianity after reality is fired into his brain by a pink laser beam of unknown but possibly divine origin.\n",
      "He is accompanied by his dogmatic and dismissively atheist friend and assorted other odd characters.\n",
      "He is accompanied by his dogmatic and dismissively atheist friend and assorted other odd characters.\n",
      "\"The Divine Invasion\" God invades Earth by making a young woman pregnant as she returns from another star system.\n",
      "\"The Divine Invasion\" God invades Earth by making a young woman pregnant as she returns from another star system.\n",
      "Unfortunately she is terminally ill, and must be assisted by a dead man whose brain is wired to 24-hour easy listening music.\n",
      "Unfortunately she is terminally ill, and must be assisted by a dead man whose brain is wired to 24-hour easy listening music.\n",
      "MARGARET ATWOOD  \"The Handmaid's Tale\" A story based on the premise that the US Congress is mysteriously assassinated, and fundamentalists quickly take charge of the nation to set it \"right\" again.\n",
      "MARGARET ATWOOD  \"The Handmaid's Tale\" A story based on the premise that the US Congress is mysteriously assassinated, and fundamentalists quickly take charge of the nation to set it \"right\" again.\n",
      "The book is the diary of a woman's life as she tries to live under the new Christian theocracy.\n",
      "The book is the diary of a woman's life as she tries to live under the new Christian theocracy.\n",
      "Women's right to own property is revoked, and their bank accounts are closed; sinful luxuries are outlawed, and the radio is only used for readings from the Bible.\n",
      "Women's right to own property is revoked, and their bank accounts are closed; sinful luxuries are outlawed, and the radio is only used for readings from the Bible.\n",
      "Crimes are punished retroactively: doctors who performed legal abortions in the \"old world\" are hunted down and hanged.\n",
      "Crimes are punished retroactively: doctors who performed legal abortions in the \"old world\" are hunted down and hanged.\n",
      "Atwood's writing style is difficult to get used to at first, but the tale grows more and more chilling as it goes on.\n",
      "Atwood's writing style is difficult to get used to at first, but the tale grows more and more chilling as it goes on.\n",
      "VARIOUS AUTHORS  \"The Bible\" This somewhat dull and rambling work has often been criticized.\n",
      "VARIOUS AUTHORS  \"The Bible\" This somewhat dull and rambling work has often been criticized.\n",
      "However, it is probably worth reading, if only so that you'll know what all the fuss is about.\n",
      "However, it is probably worth reading, if only so that you'll know what all the fuss is about.\n",
      "It exists in many different versions, so make sure you get the one true version.\n",
      "It exists in many different versions, so make sure you get the one true version.\n",
      "Books -- Non-fiction  PETER DE ROSA  \"Vicars of Christ\", Bantam Press, 1988 Although de Rosa seems to be Christian or even Catholic this is a very enlighting history of papal immoralities, adulteries, fallacies etc.\n",
      "Books -- Non-fiction  PETER DE ROSA  \"Vicars of Christ\", Bantam Press, 1988 Although de Rosa seems to be Christian or even Catholic this is a very enlighting history of papal immoralities, adulteries, fallacies etc.\n",
      "(<split>German translation: \"Gottes erste Diener.\n",
      "(<split>German translation: \"Gottes erste Diener.\n",
      "Die dunkle Seite des Papsttums\", Droemer-Knaur, 1989<split>)  MICHAEL MARTIN  \"Atheism: A Philosophical Justification\", Temple University Press,  Philadelphia, USA.\n",
      "Die dunkle Seite des Papsttums\", Droemer-Knaur, 1989<split>)  MICHAEL MARTIN  \"Atheism: A Philosophical Justification\", Temple University Press,  Philadelphia, USA.\n",
      "A detailed and scholarly justification of atheism.\n",
      "A detailed and scholarly justification of atheism.\n",
      "Contains an outstanding appendix defining terminology and usage in this (<split>necessarily<split>) tendentious area.\n",
      "Contains an outstanding appendix defining terminology and usage in this (<split>necessarily<split>) tendentious area.\n",
      "Argues both for \"negative atheism\" (<split>i.e. the \"non-belief in the existence of god(<split>s<split>)\") and also for \"positive atheism\" (\"the belief in the non-existence of god(<split>s<split>)\").\n",
      "Argues both for \"negative atheism\" (<split>i.e. the \"non-belief in the existence of god(<split>s<split>)\") and also for \"positive atheism\" (\"the belief in the non-existence of god(<split>s<split>)\").\n",
      "Includes great refutations of the most challenging arguments for god; particular attention is paid to refuting contempory theists such as Platinga and Swinburne.\n",
      "Includes great refutations of the most challenging arguments for god; particular attention is paid to refuting contempory theists such as Platinga and Swinburne.\n",
      "541 pages.\n",
      "541 pages.\n",
      "ISBN 0-87722-642-3 (<split>hardcover; paperback also available<split>)  \"The Case Against Christianity\", Temple University Press A comprehensive critique of Christianity, in which he considers the best contemporary defences of Christianity and (<split>ultimately<split>) demonstrates that they are unsupportable and/or incoherent.\n",
      "ISBN 0-87722-642-3 (<split>hardcover; paperback also available<split>)  \"The Case Against Christianity\", Temple University Press A comprehensive critique of Christianity, in which he considers the best contemporary defences of Christianity and (<split>ultimately<split>) demonstrates that they are unsupportable and/or incoherent.\n",
      "273 pages.\n",
      "273 pages.\n",
      "ISBN 0-87722-767-5  JAMES TURNER  \"Without God, Without Creed\", The Johns Hopkins University Press, Baltimore,  MD, USA Subtitled \"The Origins of Unbelief in America\".\n",
      "ISBN 0-87722-767-5  JAMES TURNER  \"Without God, Without Creed\", The Johns Hopkins University Press, Baltimore,  MD, USA Subtitled \"The Origins of Unbelief in America\".\n",
      "Examines the way in which unbelief (<split>whether agnostic or atheistic<split>)  became a mainstream alternative world-view.\n",
      "Examines the way in which unbelief (<split>whether agnostic or atheistic<split>)  became a mainstream alternative world-view.\n",
      "Focusses on the period 1770-1900, and while considering France and Britain the emphasis is on American, and particularly New England developments.\n",
      "Focusses on the period 1770-1900, and while considering France and Britain the emphasis is on American, and particularly New England developments.\n",
      "\"Neither a religious history of secularization or atheism, Without God, Without Creed is, rather, the intellectual history of the fate of a single idea, the belief that God exists\".\n",
      "\"Neither a religious history of secularization or atheism, Without God, Without Creed is, rather, the intellectual history of the fate of a single idea, the belief that God exists\".\n",
      "316 pages.\n",
      "316 pages.\n",
      "ISBN (<split>hardcover<split>) 0-8018-2494-X (<split>paper<split>) 0-8018-3407-4  GEORGE SELDES (<split>Editor<split>)  \"The great thoughts\", Ballantine Books, New York, USA A \"dictionary of quotations\" of a different kind, concentrating on statements and writings which, explicitly or implicitly, present the person's philosophy and world-view.\n",
      "ISBN (<split>hardcover<split>) 0-8018-2494-X (<split>paper<split>) 0-8018-3407-4  GEORGE SELDES (<split>Editor<split>)  \"The great thoughts\", Ballantine Books, New York, USA A \"dictionary of quotations\" of a different kind, concentrating on statements and writings which, explicitly or implicitly, present the person's philosophy and world-view.\n",
      "Includes obscure (<split>and often suppressed<split>) opinions from many people.\n",
      "Includes obscure (<split>and often suppressed<split>) opinions from many people.\n",
      "For some popular observations, traces the way in which various people expressed and twisted the idea over the centuries.\n",
      "For some popular observations, traces the way in which various people expressed and twisted the idea over the centuries.\n",
      "Quite a number of the quotations are derived from Cardiff's \"What Great Men Think of Religion\" and Noyes' \"Views of Religion\".\n",
      "Quite a number of the quotations are derived from Cardiff's \"What Great Men Think of Religion\" and Noyes' \"Views of Religion\".\n",
      "490 pages.\n",
      "490 pages.\n",
      "ISBN (<split>paper<split>) 0-345-29887-X.\n",
      "ISBN (<split>paper<split>) 0-345-29887-X.\n",
      "RICHARD SWINBURNE  \"The Existence of God (<split>Revised Edition<split>)\", Clarendon Paperbacks, Oxford This book is the second volume in a trilogy that began with \"The Coherence of Theism\" (<split>1977<split>) and was concluded with \"Faith and Reason\" (<split>1981<split>).\n",
      "RICHARD SWINBURNE  \"The Existence of God (<split>Revised Edition<split>)\", Clarendon Paperbacks, Oxford This book is the second volume in a trilogy that began with \"The Coherence of Theism\" (<split>1977<split>) and was concluded with \"Faith and Reason\" (<split>1981<split>).\n",
      "In this work, Swinburne attempts to construct a series of inductive arguments for the existence of God.\n",
      "In this work, Swinburne attempts to construct a series of inductive arguments for the existence of God.\n",
      "His arguments, which are somewhat tendentious and rely upon the imputation of late 20th century western Christian values and aesthetics to a God which is supposedly as simple as can be conceived, were decisively rejected in Mackie's \"The Miracle of Theism\".\n",
      "His arguments, which are somewhat tendentious and rely upon the imputation of late 20th century western Christian values and aesthetics to a God which is supposedly as simple as can be conceived, were decisively rejected in Mackie's \"The Miracle of Theism\".\n",
      "In the revised edition of \"The Existence of God\", Swinburne includes an Appendix in which he makes a somewhat incoherent attempt to rebut Mackie.\n",
      "In the revised edition of \"The Existence of God\", Swinburne includes an Appendix in which he makes a somewhat incoherent attempt to rebut Mackie.\n",
      "J. L. MACKIE  \"The Miracle of Theism\", Oxford This (<split>posthumous<split>) volume contains a comprehensive review of the principal arguments for and against the existence of God.\n",
      "J. L. MACKIE  \"The Miracle of Theism\", Oxford This (<split>posthumous<split>) volume contains a comprehensive review of the principal arguments for and against the existence of God.\n",
      "It ranges from the classical philosophical positions of Descartes, Anselm, Berkeley, Hume et al, through the moral arguments of Newman, Kant and Sidgwick, to the recent restatements of the classical theses by Plantinga and Swinburne.\n",
      "It ranges from the classical philosophical positions of Descartes, Anselm, Berkeley, Hume et al, through the moral arguments of Newman, Kant and Sidgwick, to the recent restatements of the classical theses by Plantinga and Swinburne.\n",
      "It also addresses those positions which push the concept of God beyond the realm of the rational, such as those of Kierkegaard, Kung and Philips, as well as \"replacements for God\" such as Lelie's axiarchism.\n",
      "It also addresses those positions which push the concept of God beyond the realm of the rational, such as those of Kierkegaard, Kung and Philips, as well as \"replacements for God\" such as Lelie's axiarchism.\n",
      "The book is a delight to read - less formalistic and better written than Martin's works, and refreshingly direct when compared with the hand-waving of Swinburne.\n",
      "The book is a delight to read - less formalistic and better written than Martin's works, and refreshingly direct when compared with the hand-waving of Swinburne.\n",
      "JAMES A. HAUGHT  \"Holy Horrors: An Illustrated History of Religious Murder and Madness\",  Prometheus Books Looks at religious persecution from ancient times to the present day -- and not only by Christians.\n",
      "JAMES A. HAUGHT  \"Holy Horrors: An Illustrated History of Religious Murder and Madness\",  Prometheus Books Looks at religious persecution from ancient times to the present day -- and not only by Christians.\n",
      "Library of Congress Catalog Card Number 89-64079.\n",
      "Library of Congress Catalog Card Number 89-64079.\n",
      "1990.\n",
      "1990.\n",
      "NORM R. ALLEN, JR.\n",
      "NORM R. ALLEN, JR.\n",
      "\"African American Humanism: an Anthology\" See the listing for African Americans for Humanism above.\n",
      "\"African American Humanism: an Anthology\" See the listing for African Americans for Humanism above.\n",
      "GORDON STEIN  \"An Anthology of Atheism and Rationalism\", Prometheus Books An anthology covering a wide range of subjects, including 'The Devil, Evil and Morality' and 'The History of Freethought'.\n",
      "GORDON STEIN  \"An Anthology of Atheism and Rationalism\", Prometheus Books An anthology covering a wide range of subjects, including 'The Devil, Evil and Morality' and 'The History of Freethought'.\n",
      "Comprehensive bibliography.\n",
      "Comprehensive bibliography.\n",
      "EDMUND D. COHEN  \"The Mind of The Bible-Believer\", Prometheus Books A study of why people become Christian fundamentalists, and what effect it has on them.\n",
      "EDMUND D. COHEN  \"The Mind of The Bible-Believer\", Prometheus Books A study of why people become Christian fundamentalists, and what effect it has on them.\n",
      "Net Resources  There's a small mail-based archive server at mantis.\n",
      "Net Resources  There's a small mail-based archive server at mantis.\n",
      "co.\n",
      "co.\n",
      "uk which carries archives of old alt.\n",
      "uk which carries archives of old alt.\n",
      "atheism.\n",
      "atheism.\n",
      "moderated articles and assorted other files.\n",
      "moderated articles and assorted other files.\n",
      "For more information, send mail to archive-server@mantis<dot>co<dot>uk<split> saying     help    send atheism/index  and it will mail back a reply.\n",
      "For more information, send mail to archive-server@mantis<dot>co<dot>uk<split> saying     help    send atheism/index  and it will mail back a reply.\n"
     ]
    }
   ],
   "source": [
    "folders = os.listdir(\"20news-bydate-train/\")\n",
    "\n",
    "\n",
    "#for folder in folders:\n",
    "#    files = os.listdir(f\"20news-bydate-train/{folder}/\")\n",
    "#    print(folder)\n",
    "    \n",
    "    #for file in files:\n",
    "folder = \"alt.atheism\"\n",
    "file = \"49960\"\n",
    "\n",
    "if not os.path.exists(f\"out/{folder}\"):\n",
    "    os.makedirs(f\"out/{folder}\")\n",
    "out = open(f\"out/{folder}/{file}.tsv\", \"w\")\n",
    "mail = open(f\"20news-bydate-train/{folder}/{file}\", \"r\").read()\n",
    "head, body = split_mail(mail)\n",
    "\n",
    "for sentence in split_into_sentences(head):\n",
    "    for token, stem, lem in tokenize(sentence):\n",
    "        out.write(f\"{token}\\t{stem}\\t{lem}\\n\")\n",
    "    out.write(\"\\n\")\n",
    "\n",
    "for sentence in split_into_sentences(body):\n",
    "    for token, stem, lem in tokenize(sentence):\n",
    "        out.write(f\"{token}\\t{stem}\\t{lem}\\n\")\n",
    "    out.write(\"\\n\")\n",
    "\n",
    "out.close()"
   ]
  }
 ],
 "metadata": {
  "kernelspec": {
   "display_name": "Python 3.9.7 64-bit",
   "language": "python",
   "name": "python3"
  },
  "language_info": {
   "codemirror_mode": {
    "name": "ipython",
    "version": 3
   },
   "file_extension": ".py",
   "mimetype": "text/x-python",
   "name": "python",
   "nbconvert_exporter": "python",
   "pygments_lexer": "ipython3",
   "version": "3.9.7"
  },
  "orig_nbformat": 4,
  "vscode": {
   "interpreter": {
    "hash": "211c36f124cb1e44422d65b0f1b447cc284239283b9a48d01f328a7f5e5d1e68"
   }
  }
 },
 "nbformat": 4,
 "nbformat_minor": 2
}
